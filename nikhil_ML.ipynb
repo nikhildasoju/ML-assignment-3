{
  "nbformat": 4,
  "nbformat_minor": 0,
  "metadata": {
    "colab": {
      "provenance": []
    },
    "kernelspec": {
      "name": "python3",
      "display_name": "Python 3"
    },
    "language_info": {
      "name": "python"
    }
  },
  "cells": [
    {
      "cell_type": "markdown",
      "source": [
        "a. Using NumPy create random vector of size 15 having only Integers in the range 1-20."
      ],
      "metadata": {
        "id": "mtT9gFEF_uWh"
      }
    },
    {
      "cell_type": "code",
      "source": [
        "import numpy as np\n",
        "from numpy import random\n",
        "x=random.randint(1,21, size=(15))\n",
        "x"
      ],
      "metadata": {
        "colab": {
          "base_uri": "https://localhost:8080/"
        },
        "id": "aXmXJm8g_6_s",
        "outputId": "7f10a25e-898f-41e4-c014-83667177bceb"
      },
      "execution_count": 33,
      "outputs": [
        {
          "output_type": "execute_result",
          "data": {
            "text/plain": [
              "array([10,  8,  9,  8, 16,  1, 16, 14, 16,  1, 18, 10,  4, 10, 12])"
            ]
          },
          "metadata": {},
          "execution_count": 33
        }
      ]
    },
    {
      "cell_type": "markdown",
      "source": [
        " 1.Reshape the array to 3 by 5"
      ],
      "metadata": {
        "id": "1M7f2D96AArU"
      }
    },
    {
      "cell_type": "code",
      "source": [
        "x=x.reshape(3,5)\n",
        "x"
      ],
      "metadata": {
        "colab": {
          "base_uri": "https://localhost:8080/"
        },
        "id": "ldZ4FiLwAVtm",
        "outputId": "ffd88cf2-fb44-4f38-cf2f-f2c9a8f6d2a3"
      },
      "execution_count": 34,
      "outputs": [
        {
          "output_type": "execute_result",
          "data": {
            "text/plain": [
              "array([[10,  8,  9,  8, 16],\n",
              "       [ 1, 16, 14, 16,  1],\n",
              "       [18, 10,  4, 10, 12]])"
            ]
          },
          "metadata": {},
          "execution_count": 34
        }
      ]
    },
    {
      "cell_type": "markdown",
      "source": [
        "2.Print array shape."
      ],
      "metadata": {
        "id": "Yp5yB4h7AEVX"
      }
    },
    {
      "cell_type": "code",
      "source": [
        "print(x.shape)"
      ],
      "metadata": {
        "colab": {
          "base_uri": "https://localhost:8080/"
        },
        "id": "lBXzpVeLAfTe",
        "outputId": "4691ee70-44a8-4e5c-86fd-b516a77564e3"
      },
      "execution_count": 35,
      "outputs": [
        {
          "output_type": "stream",
          "name": "stdout",
          "text": [
            "(3, 5)\n"
          ]
        }
      ]
    },
    {
      "cell_type": "markdown",
      "source": [
        "3. Replace the max in each row by 0"
      ],
      "metadata": {
        "id": "uvH5Ux2sADo4"
      }
    },
    {
      "cell_type": "code",
      "execution_count": 36,
      "metadata": {
        "colab": {
          "base_uri": "https://localhost:8080/"
        },
        "id": "6CADZPzV9yUT",
        "outputId": "581401ee-1ac2-4003-fb68-6b864672edb5"
      },
      "outputs": [
        {
          "output_type": "execute_result",
          "data": {
            "text/plain": [
              "array([[10,  8,  9,  8,  0],\n",
              "       [ 1,  0, 14, 16,  1],\n",
              "       [ 0, 10,  4, 10, 12]])"
            ]
          },
          "metadata": {},
          "execution_count": 36
        }
      ],
      "source": [
        "m=np.argmax(x, axis = 1, out = None)\n",
        "k=0\n",
        "for i in m:\n",
        "  x[k][i] = 0\n",
        "  k+=1\n",
        "x"
      ]
    },
    {
      "cell_type": "markdown",
      "source": [
        "Create a 2-dimensional array of size 4 x 3 (composed of 4-byte integer elements), also print the shape, type and data type \n",
        "of the array"
      ],
      "metadata": {
        "id": "tVND4vFKDTtk"
      }
    },
    {
      "cell_type": "code",
      "source": [
        "import numpy as np\n",
        "\n",
        "a = np.array(random.randint(1,21,size=(4,3)), np.int32)\n",
        "print(type(a))\t\n",
        "print(a.shape)\n",
        "print(a.dtype)"
      ],
      "metadata": {
        "colab": {
          "base_uri": "https://localhost:8080/"
        },
        "id": "lleuik-PED3I",
        "outputId": "2873727c-a65c-457a-ded5-044d89fde2e6"
      },
      "execution_count": 39,
      "outputs": [
        {
          "output_type": "stream",
          "name": "stdout",
          "text": [
            "<class 'numpy.ndarray'>\n",
            "(4, 3)\n",
            "int32\n"
          ]
        }
      ]
    },
    {
      "cell_type": "markdown",
      "source": [
        "b.Write a program to compute the eigenvalues and right eigenvectors of a given square array given below:\n",
        "[[ 3 -2]\n",
        "[ 1 0]]"
      ],
      "metadata": {
        "id": "r0QdlxxlFidH"
      }
    },
    {
      "cell_type": "code",
      "source": [
        "import numpy as np\n",
        "ar = np.array([3,-2,1,0]).reshape(2,2)\n",
        "values, vecotrs = np.linalg.eig(ar) \n",
        "print( \"Eigenvalues of the given matrix is \",values,\"Eigenvectors of the given matrix is \",vecotrs,sep='\\n')"
      ],
      "metadata": {
        "colab": {
          "base_uri": "https://localhost:8080/"
        },
        "id": "UIyWopbYFhkF",
        "outputId": "7ee8b3ae-71c0-428d-9b87-990d06d5ee6c"
      },
      "execution_count": 37,
      "outputs": [
        {
          "output_type": "stream",
          "name": "stdout",
          "text": [
            "Eigenvalues of the given matrix is \n",
            "[2. 1.]\n",
            "Eigenvectors of the given matrix is \n",
            "[[0.89442719 0.70710678]\n",
            " [0.4472136  0.70710678]]\n"
          ]
        }
      ]
    },
    {
      "cell_type": "markdown",
      "source": [
        "c. Compute the sum of the diagonal element of a given array.\n",
        "[[0 1 2]\n",
        "[3 4 5]]\n"
      ],
      "metadata": {
        "id": "RYdOV3IGI5tP"
      }
    },
    {
      "cell_type": "code",
      "source": [
        "import numpy as np\n",
        "ar = np.array([0,1,2,3,4,5]).reshape(2,3)\n",
        "print(sum(np.diagonal(ar)))"
      ],
      "metadata": {
        "colab": {
          "base_uri": "https://localhost:8080/"
        },
        "id": "ZGtwqxf5JPFI",
        "outputId": "f60eab92-b496-4d53-e938-6f9a73dd6282"
      },
      "execution_count": 53,
      "outputs": [
        {
          "output_type": "stream",
          "name": "stdout",
          "text": [
            "4\n"
          ]
        }
      ]
    },
    {
      "cell_type": "markdown",
      "source": [
        "d.Write a NumPy program to create a new shape to an array without changing its data. \n",
        "Reshape 3x2:\n",
        "[[1 2]\n",
        "[3 4]\n",
        "[5 6]]\n",
        "Reshape 2x3:\n",
        "[[1 2 3]\n",
        "[4 5 6]]"
      ],
      "metadata": {
        "id": "dDxYuOI6KkVU"
      }
    },
    {
      "cell_type": "code",
      "source": [
        "import numpy as np\n",
        "a= np.arange(1,7)\n",
        "r=a.reshape(3,2)\n",
        "s=a.reshape(2,3)\n",
        "print(\"Reshape 3x2:\",r,\"Reshape 2x3:\",s,sep=\"\\n\")"
      ],
      "metadata": {
        "colab": {
          "base_uri": "https://localhost:8080/"
        },
        "id": "wBRhMD2jPOxr",
        "outputId": "ed79c090-89ea-4d84-e560-512a01b0812f"
      },
      "execution_count": 60,
      "outputs": [
        {
          "output_type": "stream",
          "name": "stdout",
          "text": [
            "Reshape 3x2:\n",
            "[[1 2]\n",
            " [3 4]\n",
            " [5 6]]\n",
            "Reshape 2x3:\n",
            "[[1 2 3]\n",
            " [4 5 6]]\n"
          ]
        }
      ]
    },
    {
      "cell_type": "markdown",
      "source": [
        "1. Write a Python programming to create a below chart of the popularity of programming Languages.\n",
        "2. Sample data:\n",
        "Programming languages: Java, Python, PHP, JavaScript, C#, C++\n",
        "Popularity: 22.2, 17.6, 8.8, 8, 7.7, 6.7"
      ],
      "metadata": {
        "id": "gq6iCP1IT-Wx"
      }
    },
    {
      "cell_type": "code",
      "source": [
        "import matplotlib.pyplot as plt\n",
        "import numpy as np\n",
        "\n",
        "y = np.array([22.2, 17.6, 8.8, 8, 7.7, 6.7])\n",
        "mylabels = [\"Java\", \"Python\", \"PHP\", \"JavaScript\", \"C#\", \"C++\"]\n",
        "myexplode = [0.1, 0, 0, 0,0,0]\n",
        "plt.pie(y, labels = mylabels,startangle = 135,explode = myexplode, shadow = True,wedgeprops = {\"edgecolor\" : \"black\",'linewidth': 1},autopct = '%1.1f%%')\n",
        "plt.show() "
      ],
      "metadata": {
        "colab": {
          "base_uri": "https://localhost:8080/",
          "height": 406
        },
        "id": "oLa4nHyAT-5b",
        "outputId": "c0b65827-5cd3-4a3d-98b7-30ec49003c67"
      },
      "execution_count": 30,
      "outputs": [
        {
          "output_type": "display_data",
          "data": {
            "text/plain": [
              "<Figure size 640x480 with 1 Axes>"
            ],
            "image/png": "[encoded data removed]"
          },
          "metadata": {}
        }
      ]
    }
  ]
}